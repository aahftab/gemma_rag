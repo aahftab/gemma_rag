{
  "cells": [
    {
      "cell_type": "markdown",
      "metadata": {
        "colab_type": "text",
        "id": "view-in-github"
      },
      "source": [
        "<a href=\"https://colab.research.google.com/github/aahftab/gemma_rag/blob/main/gemma_rag.ipynb\" target=\"_parent\"><img src=\"https://colab.research.google.com/assets/colab-badge.svg\" alt=\"Open In Colab\"/></a>"
      ]
    },
    {
      "cell_type": "code",
      "execution_count": null,
      "metadata": {},
      "outputs": [],
      "source": [
        "from dotenv import load_dotenv\n",
        "\n",
        "load_dotenv()"
      ]
    },
    {
      "cell_type": "code",
      "execution_count": null,
      "metadata": {},
      "outputs": [],
      "source": [
        "import chromadb\n",
        "db = chromadb.PersistentClient(path=\"./chroma\")\n",
        "collection = db.get_or_create_collection(name=\"hadith\")\n",
        "\n",
        "def response(query):\n",
        "  results = collection.query(\n",
        "      query_texts=[query],\n",
        "      n_results=10\n",
        "  )\n",
        "  return results"
      ]
    },
    {
      "cell_type": "code",
      "execution_count": null,
      "metadata": {},
      "outputs": [],
      "source": [
        "from openai import OpenAI\n",
        "\n",
        "client1 = OpenAI(base_url=\"http://localhost:1234/v1\", api_key=\"not-needed\")\n",
        "\n",
        "history = [\n",
        "    {\"role\": \"system\", \"content\": \"You are an religious assistant, which provides answers based on queries from the context of Islamic religion provided to you in the form of a query and context.\"}\n",
        "] "
      ]
    },
    {
      "cell_type": "code",
      "execution_count": null,
      "metadata": {},
      "outputs": [],
      "source": [
        "def fetchResponse(query, result):\n",
        "    history.append({\n",
        "        \"role\": \"user\", \n",
        "        \"content\": f\"Answer Query: {query} \\n based upon the context given below \\n Context: {result}\"})\n",
        "\n",
        "    completion = client1.chat.completions.create(\n",
        "        model=\"local-model\",\n",
        "        messages=history, # type: ignore\n",
        "        temperature=0.7,\n",
        "        stream=True,\n",
        "    )\n",
        "\n",
        "    new_message = {\"role\": \"assistant\", \"content\": \"\"}\n",
        "    \n",
        "    for chunk in completion:\n",
        "        if chunk.choices[0].delta.content:\n",
        "            print(chunk.choices[0].delta.content, end=\"\", flush=True)\n",
        "            new_message[\"content\"] += chunk.choices[0].delta.content\n",
        "\n",
        "    history.append(new_message)"
      ]
    },
    {
      "cell_type": "code",
      "execution_count": null,
      "metadata": {},
      "outputs": [],
      "source": [
        "client2 = OpenAI(base_url=\"http://localhost:1234/v1\", api_key=\"not-needed\")"
      ]
    },
    {
      "cell_type": "code",
      "execution_count": null,
      "metadata": {},
      "outputs": [],
      "source": [
        "def summarise(text):\n",
        "    completion = client2.chat.completions.create(\n",
        "    model=\"local-model\", # this field is currently unused\n",
        "    messages=[\n",
        "      {\"role\": \"system\", \"content\": \"You are a very intelligent language assistant. You will provide summary in bullet points. provide me bullet points. Provide it directly without any prefixes\"},\n",
        "      {\"role\": \"user\", \"content\": f\"{text}\"}\n",
        "    ],\n",
        "    temperature=0.7,\n",
        "    )\n",
        "    \n",
        "    return completion.choices[0].message.content\n",
        " "
      ]
    },
    {
      "cell_type": "code",
      "execution_count": null,
      "metadata": {},
      "outputs": [],
      "source": [
        "query = \"What are the basics of namaz?\"\n",
        "results = response(query)"
      ]
    },
    {
      "cell_type": "code",
      "execution_count": null,
      "metadata": {},
      "outputs": [],
      "source": [
        "result = ''\n",
        "count = 1\n",
        "for i in results['documents'][0]: #type: ignore\n",
        "  print(count)\n",
        "  count += 1\n",
        "  result += \"-\" + \"-\".join(summarise(i).split('-')[1:]) #type: ignore"
      ]
    },
    {
      "cell_type": "code",
      "execution_count": null,
      "metadata": {},
      "outputs": [],
      "source": [
        "# for i in results['documents'][0]: #type: ignore\n",
        "#   print(f\"{summarise(i)}\")\n",
        "result = result.replace(\"\\n\\n\\n\", \"\\n\")\n",
        "result = result.replace(\"\\n\\n\", \"\\n\")\n",
        "result"
      ]
    },
    {
      "cell_type": "code",
      "execution_count": null,
      "metadata": {},
      "outputs": [],
      "source": [
        "print(f\"{result}\")"
      ]
    },
    {
      "cell_type": "code",
      "execution_count": null,
      "metadata": {},
      "outputs": [],
      "source": [
        "fetchResponse(query, result)"
      ]
    },
    {
      "cell_type": "code",
      "execution_count": null,
      "metadata": {},
      "outputs": [],
      "source": [
        "fetchResponse(\"Explain it more\", \"\")"
      ]
    }
  ],
  "metadata": {
    "accelerator": "GPU",
    "colab": {
      "gpuType": "T4",
      "include_colab_link": true,
      "provenance": []
    },
    "google": {
      "image_path": "/site-assets/images/marketing/gemma.png",
      "keywords": [
        "examples",
        "gemma",
        "python",
        "quickstart",
        "text"
      ]
    },
    "kernelspec": {
      "display_name": "Python 3",
      "name": "python3"
    },
    "language_info": {
      "codemirror_mode": {
        "name": "ipython",
        "version": 3
      },
      "file_extension": ".py",
      "mimetype": "text/x-python",
      "name": "python",
      "nbconvert_exporter": "python",
      "pygments_lexer": "ipython3",
      "version": "3.10.5"
    }
  },
  "nbformat": 4,
  "nbformat_minor": 0
}
